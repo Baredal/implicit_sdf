{
 "cells": [
  {
   "cell_type": "code",
   "execution_count": 1,
   "metadata": {},
   "outputs": [],
   "source": [
    "import os\n",
    "import trimesh\n",
    "import numpy as np\n",
    "from tqdm import tqdm\n",
    "import torch\n",
    "import torch.nn as nn\n",
    "import pysdf\n",
    "import tinycudann as tcnn # from their github installation\n",
    "import time\n",
    "import random"
   ]
  },
  {
   "cell_type": "code",
   "execution_count": 2,
   "metadata": {},
   "outputs": [],
   "source": [
    "# For running futher code you have to set up your folders and other constants\n",
    "DATASET_DIR = 'test_task_meshes'\n",
    "CKPTS_DIR = 'checkpoints'\n",
    "NUM_POINTS = 500_000\n",
    "STD_DEVIATION = 1e-2\n",
    "DEVICE = torch.device('cuda')\n",
    "EPOCHS = 20\n",
    "LR = 1e-3"
   ]
  },
  {
   "cell_type": "code",
   "execution_count": 3,
   "metadata": {},
   "outputs": [],
   "source": [
    "def get_norm_mesh(obj_path):\n",
    "    mesh = trimesh.load_mesh(obj_path)\n",
    "    vertices = mesh.vertices\n",
    "    min_bound, max_bound = mesh.bounds\n",
    "    center = (min_bound + max_bound) / 2\n",
    "    scale = 1 / max(max_bound - min_bound)\n",
    "    mesh.vertices = (vertices - center) * scale\n",
    "    return mesh\n",
    "\n",
    "def get_surface_points(mesh, std_dev=STD_DEVIATION, num_points=NUM_POINTS):\n",
    "    points = np.array(mesh.sample(num_points))\n",
    "    points += np.random.normal(0, std_dev, points.shape)\n",
    "    return points\n",
    "\n",
    "def get_volume_points(num_points=NUM_POINTS):\n",
    "    points = np.random.rand(num_points, 3) * 2 - 1\n",
    "    return points\n",
    "\n",
    "    \n",
    "\n",
    "def calculate_occupancy_f1(mesh, model, points):\n",
    "    points = torch.tensor(points, dtype=torch.float32).to(DEVICE)\n",
    "    sdf_fn = pysdf.SDF(mesh.vertices, mesh.faces)\n",
    "    gt_sdfs = -sdf_fn(points.cpu().numpy()).reshape(-1, 1).astype(np.float32)\n",
    "    gt = torch.tensor(gt_sdfs, dtype=torch.float32).to(DEVICE)\n",
    "    gt = (gt <= 0).to(torch.float32)\n",
    "    model.eval()\n",
    "    with torch.no_grad():\n",
    "        pred_sdfs = model(points)\n",
    "    pred = (pred_sdfs <= 0).to(torch.float32)\n",
    "    f1 = (calculate_f1(gt, pred) + calculate_f1(1 - gt, 1 - pred)) / 2\n",
    "    return f1\n",
    "\n",
    "def calculate_f1(gt, pred):\n",
    "    TP = torch.sum((gt == 1) & (pred == 1)).item()\n",
    "    FN = torch.sum((gt == 1) & (pred == 0)).item()\n",
    "    FP = torch.sum((gt == 0) & (pred == 1)).item()\n",
    "    recall = TP + FN\n",
    "    precision = TP + FP\n",
    "    if recall:\n",
    "        recall = TP / recall\n",
    "    if precision:\n",
    "        precision = TP / precision\n",
    "    f1 = recall + precision\n",
    "    if f1:\n",
    "        f1 = 2 * (precision * recall) / f1\n",
    "    return f1\n",
    "\n",
    "\n"
   ]
  },
  {
   "cell_type": "code",
   "execution_count": 4,
   "metadata": {},
   "outputs": [],
   "source": [
    "class SDFNetwork(nn.Module):\n",
    "    def __init__(self,\n",
    "                 encoding=\"hashgrid\",\n",
    "                 num_layers=3,\n",
    "                 skips=[],\n",
    "                 hidden_dim=64,\n",
    "                 clip_sdf=None,\n",
    "                 ):\n",
    "        super().__init__()\n",
    "\n",
    "        self.num_layers = num_layers\n",
    "        self.skips = skips\n",
    "        self.hidden_dim = hidden_dim\n",
    "        self.clip_sdf = clip_sdf\n",
    "        \n",
    "        assert self.skips == [], 'TCNN does not support concatenating inside, please use skips=[].'\n",
    "\n",
    "        self.encoder = tcnn.Encoding(\n",
    "            n_input_dims=3,\n",
    "            encoding_config={\n",
    "                \"otype\": \"HashGrid\",\n",
    "                \"n_levels\": 16,\n",
    "                \"n_features_per_level\": 2,\n",
    "                \"log2_hashmap_size\": 19,\n",
    "                \"base_resolution\": 16,\n",
    "                \"per_level_scale\": 1.3819,\n",
    "            },\n",
    "        )\n",
    "\n",
    "        self.backbone = tcnn.Network(\n",
    "            n_input_dims=32,\n",
    "            n_output_dims=1,\n",
    "            network_config={\n",
    "                \"otype\": \"FullyFusedMLP\",\n",
    "                \"activation\": \"ReLU\",\n",
    "                \"output_activation\": \"None\",\n",
    "                \"n_neurons\": hidden_dim,\n",
    "                \"n_hidden_layers\": num_layers - 1,\n",
    "            },\n",
    "        )\n",
    "\n",
    "\n",
    "    def forward(self, x):\n",
    "        # x: [B, 3]\n",
    "        x = (x + 1) / 2 # to [0, 1]\n",
    "        x = self.encoder(x)\n",
    "        h = self.backbone(x)\n",
    "        if self.clip_sdf is not None:\n",
    "            h = h.clamp(-self.clip_sdf, self.clip_sdf)\n",
    "        return h\n",
    "    \n",
    "def mape_loss(pred, target):\n",
    "    # pred, target: [B, 1], torch tenspr\n",
    "    difference = (pred - target).abs()\n",
    "    scale = 1 / (target.abs() + 1e-2)\n",
    "    loss = difference * scale\n",
    "\n",
    "    return loss.mean()\n",
    "\n",
    "def train_model(mesh, surf_pts, vol_pts, num_epochs=EPOCHS, lr=LR):\n",
    "    model = SDFNetwork().to(DEVICE)\n",
    "    criterion = mape_loss\n",
    "    points_for_train = np.concatenate((surf_pts[:NUM_POINTS//2,:], vol_pts[NUM_POINTS//2:,:]), axis=0)\n",
    "    \n",
    "    optimizer = torch.optim.Adam([\n",
    "        {'name': 'encoding', 'params': model.encoder.parameters()},\n",
    "        {'name': 'net', 'params': model.backbone.parameters(), 'weight_decay': 1e-6},\n",
    "    ], lr=lr, betas=(0.9, 0.99), eps=1e-15)\n",
    "    \n",
    "    for epoch in range(num_epochs):\n",
    "        model.train()\n",
    "        optimizer.zero_grad()\n",
    "\n",
    "        points = torch.tensor(points_for_train, dtype=torch.float32).to(DEVICE)\n",
    "        sdf_fn = pysdf.SDF(mesh.vertices, mesh.faces)\n",
    "        gt_sdf = -sdf_fn(points.cpu().numpy()).reshape(-1, 1).astype(np.float32)\n",
    "        gt_sdf = torch.tensor(gt_sdf).to(DEVICE)\n",
    "\n",
    "        pred_sdf = model(points)\n",
    "        loss = criterion(pred_sdf, gt_sdf)\n",
    "\n",
    "        loss.backward()\n",
    "        optimizer.step()\n",
    "\n",
    "        print(f\"Epoch {epoch + 1}, Loss: {loss.item()}\")\n",
    "\n",
    "    return model\n"
   ]
  },
  {
   "cell_type": "code",
   "execution_count": 8,
   "metadata": {},
   "outputs": [
    {
     "name": "stderr",
     "output_type": "stream",
     "text": [
      "0it [00:00, ?it/s]"
     ]
    },
    {
     "name": "stdout",
     "output_type": "stream",
     "text": [
      "Epoch 1, Loss: 0.6607466340065002\n",
      "Epoch 2, Loss: 0.6260046362876892\n",
      "Epoch 3, Loss: 0.6000893712043762\n",
      "Epoch 4, Loss: 0.5764374136924744\n",
      "Epoch 5, Loss: 0.5540878772735596\n",
      "Epoch 6, Loss: 0.5399360060691833\n",
      "Epoch 7, Loss: 0.5321506857872009\n",
      "Epoch 8, Loss: 0.525884747505188\n",
      "Epoch 9, Loss: 0.5185310244560242\n",
      "Epoch 10, Loss: 0.5098280906677246\n",
      "Epoch 11, Loss: 0.5011358857154846\n",
      "Epoch 12, Loss: 0.4936535954475403\n",
      "Epoch 13, Loss: 0.48714426159858704\n",
      "Epoch 14, Loss: 0.48050639033317566\n",
      "Epoch 15, Loss: 0.47337645292282104\n",
      "Epoch 16, Loss: 0.46594342589378357\n",
      "Epoch 17, Loss: 0.4582762122154236\n",
      "Epoch 18, Loss: 0.45023030042648315\n",
      "Epoch 19, Loss: 0.44199809432029724\n",
      "Epoch 20, Loss: 0.4335857927799225\n",
      "Boundary points occupancy f1 for 0 sample: 0.948198366483372\n",
      "Uniform volume points occupancy f1 for 0 sample: 0.9642946329763201\n",
      "\n"
     ]
    },
    {
     "name": "stderr",
     "output_type": "stream",
     "text": [
      "1it [00:11, 11.69s/it]"
     ]
    },
    {
     "name": "stdout",
     "output_type": "stream",
     "text": [
      "Epoch 1, Loss: 0.663997232913971\n",
      "Epoch 2, Loss: 0.6437587738037109\n",
      "Epoch 3, Loss: 0.6163897514343262\n",
      "Epoch 4, Loss: 0.5925012230873108\n",
      "Epoch 5, Loss: 0.572019100189209\n",
      "Epoch 6, Loss: 0.5568759441375732\n",
      "Epoch 7, Loss: 0.5468201041221619\n",
      "Epoch 8, Loss: 0.5383155941963196\n",
      "Epoch 9, Loss: 0.5291266441345215\n",
      "Epoch 10, Loss: 0.5189071297645569\n",
      "Epoch 11, Loss: 0.5087898969650269\n",
      "Epoch 12, Loss: 0.49966493248939514\n",
      "Epoch 13, Loss: 0.4918428063392639\n",
      "Epoch 14, Loss: 0.48416993021965027\n",
      "Epoch 15, Loss: 0.47559118270874023\n",
      "Epoch 16, Loss: 0.46639537811279297\n",
      "Epoch 17, Loss: 0.45691055059432983\n",
      "Epoch 18, Loss: 0.447424978017807\n",
      "Epoch 19, Loss: 0.4381522536277771\n",
      "Epoch 20, Loss: 0.42893078923225403\n",
      "Boundary points occupancy f1 for 1 sample: 0.9540698995651223\n",
      "Uniform volume points occupancy f1 for 1 sample: 0.9755838256716293\n",
      "\n"
     ]
    },
    {
     "name": "stderr",
     "output_type": "stream",
     "text": [
      "2it [00:18,  8.91s/it]"
     ]
    },
    {
     "name": "stdout",
     "output_type": "stream",
     "text": [
      "Epoch 1, Loss: 0.770524263381958\n",
      "Epoch 2, Loss: 0.7419297695159912\n",
      "Epoch 3, Loss: 0.7101998329162598\n",
      "Epoch 4, Loss: 0.6851984262466431\n",
      "Epoch 5, Loss: 0.6634453535079956\n",
      "Epoch 6, Loss: 0.6408000588417053\n",
      "Epoch 7, Loss: 0.6195512413978577\n",
      "Epoch 8, Loss: 0.6043643951416016\n",
      "Epoch 9, Loss: 0.5929592251777649\n",
      "Epoch 10, Loss: 0.5809152722358704\n",
      "Epoch 11, Loss: 0.5671209692955017\n",
      "Epoch 12, Loss: 0.5523173809051514\n",
      "Epoch 13, Loss: 0.5377498269081116\n",
      "Epoch 14, Loss: 0.5230768322944641\n",
      "Epoch 15, Loss: 0.5081247687339783\n",
      "Epoch 16, Loss: 0.49361181259155273\n",
      "Epoch 17, Loss: 0.47939059138298035\n",
      "Epoch 18, Loss: 0.46469706296920776\n",
      "Epoch 19, Loss: 0.44962450861930847\n",
      "Epoch 20, Loss: 0.4347241222858429\n",
      "Boundary points occupancy f1 for 2 sample: 0.7786946618092571\n",
      "Uniform volume points occupancy f1 for 2 sample: 0.8374402112237358\n",
      "\n"
     ]
    },
    {
     "name": "stderr",
     "output_type": "stream",
     "text": [
      "3it [00:30, 10.11s/it]"
     ]
    },
    {
     "name": "stdout",
     "output_type": "stream",
     "text": [
      "Epoch 1, Loss: 0.807960569858551\n",
      "Epoch 2, Loss: 0.7979055643081665\n",
      "Epoch 3, Loss: 0.7781804800033569\n",
      "Epoch 4, Loss: 0.7591888308525085\n",
      "Epoch 5, Loss: 0.7413703799247742\n",
      "Epoch 6, Loss: 0.7240960597991943\n",
      "Epoch 7, Loss: 0.7070412635803223\n",
      "Epoch 8, Loss: 0.6904186606407166\n",
      "Epoch 9, Loss: 0.6744744777679443\n",
      "Epoch 10, Loss: 0.6590583920478821\n",
      "Epoch 11, Loss: 0.6435783505439758\n",
      "Epoch 12, Loss: 0.6273254752159119\n",
      "Epoch 13, Loss: 0.6101287603378296\n",
      "Epoch 14, Loss: 0.5928232669830322\n",
      "Epoch 15, Loss: 0.5757843255996704\n",
      "Epoch 16, Loss: 0.5585958957672119\n",
      "Epoch 17, Loss: 0.541290283203125\n",
      "Epoch 18, Loss: 0.5242730975151062\n",
      "Epoch 19, Loss: 0.5076227784156799\n",
      "Epoch 20, Loss: 0.49102848768234253\n",
      "Boundary points occupancy f1 for 3 sample: 0.9034234677000613\n",
      "Uniform volume points occupancy f1 for 3 sample: 0.8989414112831914\n",
      "\n"
     ]
    },
    {
     "name": "stderr",
     "output_type": "stream",
     "text": [
      "4it [00:43, 11.23s/it]"
     ]
    },
    {
     "name": "stdout",
     "output_type": "stream",
     "text": [
      "Epoch 1, Loss: 0.6746289134025574\n",
      "Epoch 2, Loss: 0.6568275690078735\n",
      "Epoch 3, Loss: 0.629349946975708\n",
      "Epoch 4, Loss: 0.6068333983421326\n",
      "Epoch 5, Loss: 0.5864569544792175\n",
      "Epoch 6, Loss: 0.5685582756996155\n",
      "Epoch 7, Loss: 0.5562999248504639\n",
      "Epoch 8, Loss: 0.5475187301635742\n",
      "Epoch 9, Loss: 0.5383359789848328\n",
      "Epoch 10, Loss: 0.5275514721870422\n",
      "Epoch 11, Loss: 0.5157409906387329\n",
      "Epoch 12, Loss: 0.5036228895187378\n",
      "Epoch 13, Loss: 0.4918439984321594\n",
      "Epoch 14, Loss: 0.4810883402824402\n",
      "Epoch 15, Loss: 0.4703468382358551\n",
      "Epoch 16, Loss: 0.45875468850135803\n",
      "Epoch 17, Loss: 0.4462287724018097\n",
      "Epoch 18, Loss: 0.4329805076122284\n",
      "Epoch 19, Loss: 0.41985130310058594\n",
      "Epoch 20, Loss: 0.40695711970329285\n",
      "Boundary points occupancy f1 for 4 sample: 0.9493301523111592\n",
      "Uniform volume points occupancy f1 for 4 sample: 0.9497496340159397\n",
      "\n"
     ]
    },
    {
     "name": "stderr",
     "output_type": "stream",
     "text": [
      "5it [00:48,  9.19s/it]"
     ]
    },
    {
     "name": "stdout",
     "output_type": "stream",
     "text": [
      "Epoch 1, Loss: 0.7680221199989319\n",
      "Epoch 2, Loss: 0.7401471138000488\n",
      "Epoch 3, Loss: 0.7119572758674622\n",
      "Epoch 4, Loss: 0.6895948648452759\n",
      "Epoch 5, Loss: 0.6686561703681946\n",
      "Epoch 6, Loss: 0.6471976637840271\n",
      "Epoch 7, Loss: 0.6285905241966248\n",
      "Epoch 8, Loss: 0.6155643463134766\n",
      "Epoch 9, Loss: 0.6049407720565796\n",
      "Epoch 10, Loss: 0.593838632106781\n",
      "Epoch 11, Loss: 0.5816590189933777\n",
      "Epoch 12, Loss: 0.5689895153045654\n",
      "Epoch 13, Loss: 0.5562740564346313\n",
      "Epoch 14, Loss: 0.5434939861297607\n",
      "Epoch 15, Loss: 0.5306651592254639\n",
      "Epoch 16, Loss: 0.5179288983345032\n",
      "Epoch 17, Loss: 0.5050615072250366\n",
      "Epoch 18, Loss: 0.49183303117752075\n",
      "Epoch 19, Loss: 0.4783579111099243\n",
      "Epoch 20, Loss: 0.46444013714790344\n",
      "Boundary points occupancy f1 for 5 sample: 0.9345249331603052\n",
      "Uniform volume points occupancy f1 for 5 sample: 0.9130821611339994\n",
      "\n"
     ]
    },
    {
     "name": "stderr",
     "output_type": "stream",
     "text": [
      "6it [01:02, 10.72s/it]"
     ]
    },
    {
     "name": "stdout",
     "output_type": "stream",
     "text": [
      "Epoch 1, Loss: 0.6964978575706482\n",
      "Epoch 2, Loss: 0.6678811311721802\n",
      "Epoch 3, Loss: 0.6388049721717834\n",
      "Epoch 4, Loss: 0.6142320036888123\n",
      "Epoch 5, Loss: 0.5914891958236694\n",
      "Epoch 6, Loss: 0.5742283463478088\n",
      "Epoch 7, Loss: 0.5641223788261414\n",
      "Epoch 8, Loss: 0.5565797090530396\n",
      "Epoch 9, Loss: 0.5481410026550293\n",
      "Epoch 10, Loss: 0.5377557873725891\n",
      "Epoch 11, Loss: 0.5265406966209412\n",
      "Epoch 12, Loss: 0.5160467624664307\n",
      "Epoch 13, Loss: 0.5068126320838928\n",
      "Epoch 14, Loss: 0.4983993172645569\n",
      "Epoch 15, Loss: 0.4894291162490845\n",
      "Epoch 16, Loss: 0.47932130098342896\n",
      "Epoch 17, Loss: 0.46902012825012207\n",
      "Epoch 18, Loss: 0.4588887691497803\n",
      "Epoch 19, Loss: 0.44881802797317505\n",
      "Epoch 20, Loss: 0.43856140971183777\n",
      "Boundary points occupancy f1 for 6 sample: 0.9522930632107033\n",
      "Uniform volume points occupancy f1 for 6 sample: 0.9595906897766248\n",
      "\n"
     ]
    },
    {
     "name": "stderr",
     "output_type": "stream",
     "text": [
      "7it [01:10,  9.84s/it]"
     ]
    },
    {
     "name": "stdout",
     "output_type": "stream",
     "text": [
      "Epoch 1, Loss: 0.7250475883483887\n",
      "Epoch 2, Loss: 0.6744294166564941\n",
      "Epoch 3, Loss: 0.6322723031044006\n",
      "Epoch 4, Loss: 0.6085848808288574\n",
      "Epoch 5, Loss: 0.5905405282974243\n",
      "Epoch 6, Loss: 0.5653866529464722\n",
      "Epoch 7, Loss: 0.5363229513168335\n",
      "Epoch 8, Loss: 0.5182573795318604\n",
      "Epoch 9, Loss: 0.511546790599823\n",
      "Epoch 10, Loss: 0.5043139457702637\n",
      "Epoch 11, Loss: 0.4960381090641022\n",
      "Epoch 12, Loss: 0.48776158690452576\n",
      "Epoch 13, Loss: 0.479129821062088\n",
      "Epoch 14, Loss: 0.4695740342140198\n",
      "Epoch 15, Loss: 0.4596116840839386\n",
      "Epoch 16, Loss: 0.4507101774215698\n",
      "Epoch 17, Loss: 0.44304510951042175\n",
      "Epoch 18, Loss: 0.43486180901527405\n",
      "Epoch 19, Loss: 0.4256412982940674\n",
      "Epoch 20, Loss: 0.41665488481521606\n",
      "Boundary points occupancy f1 for 7 sample: 0.8369584204863707\n",
      "Uniform volume points occupancy f1 for 7 sample: 0.8515204217675264\n",
      "\n"
     ]
    },
    {
     "name": "stderr",
     "output_type": "stream",
     "text": [
      "8it [04:05, 62.29s/it]"
     ]
    },
    {
     "name": "stdout",
     "output_type": "stream",
     "text": [
      "Epoch 1, Loss: 0.687708854675293\n",
      "Epoch 2, Loss: 0.6454396843910217\n",
      "Epoch 3, Loss: 0.6166290044784546\n",
      "Epoch 4, Loss: 0.5962024927139282\n",
      "Epoch 5, Loss: 0.5717334151268005\n",
      "Epoch 6, Loss: 0.5487267374992371\n",
      "Epoch 7, Loss: 0.5374270081520081\n",
      "Epoch 8, Loss: 0.5312806963920593\n",
      "Epoch 9, Loss: 0.5256512761116028\n",
      "Epoch 10, Loss: 0.5188761949539185\n",
      "Epoch 11, Loss: 0.510450541973114\n",
      "Epoch 12, Loss: 0.5018514394760132\n",
      "Epoch 13, Loss: 0.49423593282699585\n",
      "Epoch 14, Loss: 0.487731397151947\n",
      "Epoch 15, Loss: 0.4814806580543518\n",
      "Epoch 16, Loss: 0.4748423993587494\n",
      "Epoch 17, Loss: 0.46816956996917725\n",
      "Epoch 18, Loss: 0.46128687262535095\n",
      "Epoch 19, Loss: 0.4538991153240204\n",
      "Epoch 20, Loss: 0.4464055001735687\n",
      "Boundary points occupancy f1 for 8 sample: 0.9425693336166936\n",
      "Uniform volume points occupancy f1 for 8 sample: 0.9590987273072127\n",
      "\n"
     ]
    },
    {
     "name": "stderr",
     "output_type": "stream",
     "text": [
      "9it [04:17, 46.63s/it]"
     ]
    },
    {
     "name": "stdout",
     "output_type": "stream",
     "text": [
      "Epoch 1, Loss: 0.7548767924308777\n",
      "Epoch 2, Loss: 0.716218888759613\n",
      "Epoch 3, Loss: 0.6909967064857483\n",
      "Epoch 4, Loss: 0.6725260615348816\n",
      "Epoch 5, Loss: 0.647966742515564\n",
      "Epoch 6, Loss: 0.6247248649597168\n",
      "Epoch 7, Loss: 0.6127854585647583\n",
      "Epoch 8, Loss: 0.6029341220855713\n",
      "Epoch 9, Loss: 0.5918713808059692\n",
      "Epoch 10, Loss: 0.5797901749610901\n",
      "Epoch 11, Loss: 0.566960334777832\n",
      "Epoch 12, Loss: 0.5535038709640503\n",
      "Epoch 13, Loss: 0.5394098162651062\n",
      "Epoch 14, Loss: 0.5258153080940247\n",
      "Epoch 15, Loss: 0.5128163695335388\n",
      "Epoch 16, Loss: 0.4995570182800293\n",
      "Epoch 17, Loss: 0.48646190762519836\n",
      "Epoch 18, Loss: 0.4734516739845276\n",
      "Epoch 19, Loss: 0.45996949076652527\n",
      "Epoch 20, Loss: 0.44659703969955444\n",
      "Boundary points occupancy f1 for 9 sample: 0.8590241528882955\n",
      "Uniform volume points occupancy f1 for 9 sample: 0.8849235735700524\n",
      "\n"
     ]
    },
    {
     "name": "stderr",
     "output_type": "stream",
     "text": [
      "10it [04:31, 36.53s/it]"
     ]
    },
    {
     "name": "stdout",
     "output_type": "stream",
     "text": [
      "Epoch 1, Loss: 0.7114750146865845\n",
      "Epoch 2, Loss: 0.6655933260917664\n",
      "Epoch 3, Loss: 0.6325415968894958\n",
      "Epoch 4, Loss: 0.6132561564445496\n",
      "Epoch 5, Loss: 0.5908585786819458\n",
      "Epoch 6, Loss: 0.5640333890914917\n",
      "Epoch 7, Loss: 0.5447871088981628\n",
      "Epoch 8, Loss: 0.5353277325630188\n",
      "Epoch 9, Loss: 0.5271801352500916\n",
      "Epoch 10, Loss: 0.5191476941108704\n",
      "Epoch 11, Loss: 0.5111386179924011\n",
      "Epoch 12, Loss: 0.5024492740631104\n",
      "Epoch 13, Loss: 0.4931577742099762\n",
      "Epoch 14, Loss: 0.4842216968536377\n",
      "Epoch 15, Loss: 0.4763984978199005\n",
      "Epoch 16, Loss: 0.46896421909332275\n",
      "Epoch 17, Loss: 0.4609290659427643\n",
      "Epoch 18, Loss: 0.45264193415641785\n",
      "Epoch 19, Loss: 0.44448405504226685\n",
      "Epoch 20, Loss: 0.4359610974788666\n",
      "Boundary points occupancy f1 for 10 sample: 0.8507357948418106\n",
      "Uniform volume points occupancy f1 for 10 sample: 0.8495914214293055\n",
      "\n"
     ]
    },
    {
     "name": "stderr",
     "output_type": "stream",
     "text": [
      "11it [04:51, 31.68s/it]"
     ]
    },
    {
     "name": "stdout",
     "output_type": "stream",
     "text": [
      "Epoch 1, Loss: 0.6796230673789978\n",
      "Epoch 2, Loss: 0.6533295512199402\n",
      "Epoch 3, Loss: 0.6255596876144409\n",
      "Epoch 4, Loss: 0.6026122570037842\n",
      "Epoch 5, Loss: 0.5801762938499451\n",
      "Epoch 6, Loss: 0.5610486268997192\n",
      "Epoch 7, Loss: 0.5495867729187012\n",
      "Epoch 8, Loss: 0.5412267446517944\n",
      "Epoch 9, Loss: 0.5321983695030212\n",
      "Epoch 10, Loss: 0.5215827226638794\n",
      "Epoch 11, Loss: 0.5097827911376953\n",
      "Epoch 12, Loss: 0.49793869256973267\n",
      "Epoch 13, Loss: 0.4868715703487396\n",
      "Epoch 14, Loss: 0.47652506828308105\n",
      "Epoch 15, Loss: 0.46613824367523193\n",
      "Epoch 16, Loss: 0.4553220868110657\n",
      "Epoch 17, Loss: 0.44393646717071533\n",
      "Epoch 18, Loss: 0.4319547414779663\n",
      "Epoch 19, Loss: 0.4196128845214844\n",
      "Epoch 20, Loss: 0.4071018695831299\n",
      "Boundary points occupancy f1 for 11 sample: 0.9479273388356124\n",
      "Uniform volume points occupancy f1 for 11 sample: 0.974412421231339\n",
      "\n"
     ]
    },
    {
     "name": "stderr",
     "output_type": "stream",
     "text": [
      "12it [05:02, 25.30s/it]"
     ]
    },
    {
     "name": "stdout",
     "output_type": "stream",
     "text": [
      "Epoch 1, Loss: 0.6780309081077576\n",
      "Epoch 2, Loss: 0.6563795208930969\n",
      "Epoch 3, Loss: 0.6277872920036316\n",
      "Epoch 4, Loss: 0.603424608707428\n",
      "Epoch 5, Loss: 0.5817978382110596\n",
      "Epoch 6, Loss: 0.5644847750663757\n",
      "Epoch 7, Loss: 0.5535422563552856\n",
      "Epoch 8, Loss: 0.5453544855117798\n",
      "Epoch 9, Loss: 0.5362516045570374\n",
      "Epoch 10, Loss: 0.5248889923095703\n",
      "Epoch 11, Loss: 0.512884259223938\n",
      "Epoch 12, Loss: 0.5020702481269836\n",
      "Epoch 13, Loss: 0.4924691915512085\n",
      "Epoch 14, Loss: 0.4841896891593933\n",
      "Epoch 15, Loss: 0.4750078320503235\n",
      "Epoch 16, Loss: 0.4646105170249939\n",
      "Epoch 17, Loss: 0.45403987169265747\n",
      "Epoch 18, Loss: 0.44333416223526\n",
      "Epoch 19, Loss: 0.432669460773468\n",
      "Epoch 20, Loss: 0.42191240191459656\n",
      "Boundary points occupancy f1 for 12 sample: 0.9614838032346609\n",
      "Uniform volume points occupancy f1 for 12 sample: 0.9833145253785216\n",
      "\n"
     ]
    },
    {
     "name": "stderr",
     "output_type": "stream",
     "text": [
      "13it [05:10, 20.05s/it]"
     ]
    },
    {
     "name": "stdout",
     "output_type": "stream",
     "text": [
      "Epoch 1, Loss: 0.6863279938697815\n",
      "Epoch 2, Loss: 0.6430932283401489\n",
      "Epoch 3, Loss: 0.6140350103378296\n",
      "Epoch 4, Loss: 0.5933918952941895\n",
      "Epoch 5, Loss: 0.5677394866943359\n",
      "Epoch 6, Loss: 0.5447162389755249\n",
      "Epoch 7, Loss: 0.5348554253578186\n",
      "Epoch 8, Loss: 0.5289997458457947\n",
      "Epoch 9, Loss: 0.5234425067901611\n",
      "Epoch 10, Loss: 0.5165963172912598\n",
      "Epoch 11, Loss: 0.5082157254219055\n",
      "Epoch 12, Loss: 0.49989452958106995\n",
      "Epoch 13, Loss: 0.49274975061416626\n",
      "Epoch 14, Loss: 0.486825168132782\n",
      "Epoch 15, Loss: 0.48095086216926575\n",
      "Epoch 16, Loss: 0.4746057391166687\n",
      "Epoch 17, Loss: 0.4682188630104065\n",
      "Epoch 18, Loss: 0.4615049362182617\n",
      "Epoch 19, Loss: 0.45432549715042114\n",
      "Epoch 20, Loss: 0.44707563519477844\n",
      "Boundary points occupancy f1 for 13 sample: 0.9355310028167718\n",
      "Uniform volume points occupancy f1 for 13 sample: 0.9545861558907074\n",
      "\n"
     ]
    },
    {
     "name": "stderr",
     "output_type": "stream",
     "text": [
      "14it [05:23, 17.92s/it]"
     ]
    },
    {
     "name": "stdout",
     "output_type": "stream",
     "text": [
      "Epoch 1, Loss: 0.7977963089942932\n",
      "Epoch 2, Loss: 0.7835873365402222\n",
      "Epoch 3, Loss: 0.762032151222229\n",
      "Epoch 4, Loss: 0.7425078749656677\n",
      "Epoch 5, Loss: 0.7241083979606628\n",
      "Epoch 6, Loss: 0.7064632773399353\n",
      "Epoch 7, Loss: 0.6899406313896179\n",
      "Epoch 8, Loss: 0.6746894717216492\n",
      "Epoch 9, Loss: 0.6598085761070251\n",
      "Epoch 10, Loss: 0.6442978978157043\n",
      "Epoch 11, Loss: 0.6276397109031677\n",
      "Epoch 12, Loss: 0.6100389361381531\n",
      "Epoch 13, Loss: 0.5922277569770813\n",
      "Epoch 14, Loss: 0.5739821195602417\n",
      "Epoch 15, Loss: 0.5549938678741455\n",
      "Epoch 16, Loss: 0.5357734560966492\n",
      "Epoch 17, Loss: 0.5165619254112244\n",
      "Epoch 18, Loss: 0.4969433844089508\n",
      "Epoch 19, Loss: 0.4771883189678192\n",
      "Epoch 20, Loss: 0.4574677348136902\n",
      "Boundary points occupancy f1 for 14 sample: 0.8557712460503059\n",
      "Uniform volume points occupancy f1 for 14 sample: 0.8692719345382244\n",
      "\n"
     ]
    },
    {
     "name": "stderr",
     "output_type": "stream",
     "text": [
      "15it [05:44, 18.80s/it]"
     ]
    },
    {
     "name": "stdout",
     "output_type": "stream",
     "text": [
      "Epoch 1, Loss: 0.6999529004096985\n",
      "Epoch 2, Loss: 0.6775713562965393\n",
      "Epoch 3, Loss: 0.6497326493263245\n",
      "Epoch 4, Loss: 0.6287075281143188\n",
      "Epoch 5, Loss: 0.6085631847381592\n",
      "Epoch 6, Loss: 0.5897895097732544\n",
      "Epoch 7, Loss: 0.5784062147140503\n",
      "Epoch 8, Loss: 0.5709688067436218\n",
      "Epoch 9, Loss: 0.5624052286148071\n",
      "Epoch 10, Loss: 0.551795482635498\n",
      "Epoch 11, Loss: 0.5402863025665283\n",
      "Epoch 12, Loss: 0.5295663475990295\n",
      "Epoch 13, Loss: 0.5201201438903809\n",
      "Epoch 14, Loss: 0.5120416283607483\n",
      "Epoch 15, Loss: 0.5036135315895081\n",
      "Epoch 16, Loss: 0.49379634857177734\n",
      "Epoch 17, Loss: 0.48329728841781616\n",
      "Epoch 18, Loss: 0.47286880016326904\n",
      "Epoch 19, Loss: 0.4628223478794098\n",
      "Epoch 20, Loss: 0.4528178870677948\n",
      "Boundary points occupancy f1 for 15 sample: 0.9636263210086267\n",
      "Uniform volume points occupancy f1 for 15 sample: 0.9122762091344465\n",
      "\n"
     ]
    },
    {
     "name": "stderr",
     "output_type": "stream",
     "text": [
      "16it [05:52, 15.45s/it]"
     ]
    },
    {
     "name": "stdout",
     "output_type": "stream",
     "text": [
      "Epoch 1, Loss: 0.7319276928901672\n",
      "Epoch 2, Loss: 0.7079103589057922\n",
      "Epoch 3, Loss: 0.6789562702178955\n",
      "Epoch 4, Loss: 0.6558876037597656\n",
      "Epoch 5, Loss: 0.6344969868659973\n",
      "Epoch 6, Loss: 0.6145879626274109\n",
      "Epoch 7, Loss: 0.5996200442314148\n",
      "Epoch 8, Loss: 0.5895397067070007\n",
      "Epoch 9, Loss: 0.5802243947982788\n",
      "Epoch 10, Loss: 0.5694019198417664\n",
      "Epoch 11, Loss: 0.5570246577262878\n",
      "Epoch 12, Loss: 0.5448915958404541\n",
      "Epoch 13, Loss: 0.5336313247680664\n",
      "Epoch 14, Loss: 0.5230188965797424\n",
      "Epoch 15, Loss: 0.5132613778114319\n",
      "Epoch 16, Loss: 0.5031669735908508\n",
      "Epoch 17, Loss: 0.49207624793052673\n",
      "Epoch 18, Loss: 0.48068249225616455\n",
      "Epoch 19, Loss: 0.4695635735988617\n",
      "Epoch 20, Loss: 0.458152174949646\n",
      "Boundary points occupancy f1 for 16 sample: 0.9595481794733383\n",
      "Uniform volume points occupancy f1 for 16 sample: 0.9461851151516476\n",
      "\n"
     ]
    },
    {
     "name": "stderr",
     "output_type": "stream",
     "text": [
      "17it [06:01, 13.57s/it]"
     ]
    },
    {
     "name": "stdout",
     "output_type": "stream",
     "text": [
      "Epoch 1, Loss: 0.7962808609008789\n",
      "Epoch 2, Loss: 0.7846935391426086\n",
      "Epoch 3, Loss: 0.7651715278625488\n",
      "Epoch 4, Loss: 0.7479488849639893\n",
      "Epoch 5, Loss: 0.7320386171340942\n",
      "Epoch 6, Loss: 0.7167585492134094\n",
      "Epoch 7, Loss: 0.7022499442100525\n",
      "Epoch 8, Loss: 0.6891049742698669\n",
      "Epoch 9, Loss: 0.6764503121376038\n",
      "Epoch 10, Loss: 0.6628491282463074\n",
      "Epoch 11, Loss: 0.6475232243537903\n",
      "Epoch 12, Loss: 0.6310853958129883\n",
      "Epoch 13, Loss: 0.6144931316375732\n",
      "Epoch 14, Loss: 0.5972347855567932\n",
      "Epoch 15, Loss: 0.579207181930542\n",
      "Epoch 16, Loss: 0.5611391067504883\n",
      "Epoch 17, Loss: 0.5425161123275757\n",
      "Epoch 18, Loss: 0.5231763124465942\n",
      "Epoch 19, Loss: 0.5035980939865112\n",
      "Epoch 20, Loss: 0.4833541810512543\n",
      "Boundary points occupancy f1 for 17 sample: 0.7712113523455828\n",
      "Uniform volume points occupancy f1 for 17 sample: 0.8315132386908597\n",
      "\n"
     ]
    },
    {
     "name": "stderr",
     "output_type": "stream",
     "text": [
      "18it [06:10, 12.33s/it]"
     ]
    },
    {
     "name": "stdout",
     "output_type": "stream",
     "text": [
      "Epoch 1, Loss: 0.6881005167961121\n",
      "Epoch 2, Loss: 0.6588549613952637\n",
      "Epoch 3, Loss: 0.6275924444198608\n",
      "Epoch 4, Loss: 0.6035982370376587\n",
      "Epoch 5, Loss: 0.5815356373786926\n",
      "Epoch 6, Loss: 0.5628734827041626\n",
      "Epoch 7, Loss: 0.5519792437553406\n",
      "Epoch 8, Loss: 0.545520544052124\n",
      "Epoch 9, Loss: 0.5385502576828003\n",
      "Epoch 10, Loss: 0.5298341512680054\n",
      "Epoch 11, Loss: 0.5197059512138367\n",
      "Epoch 12, Loss: 0.5094045400619507\n",
      "Epoch 13, Loss: 0.5003260374069214\n",
      "Epoch 14, Loss: 0.4928329288959503\n",
      "Epoch 15, Loss: 0.4854568839073181\n",
      "Epoch 16, Loss: 0.4769880175590515\n",
      "Epoch 17, Loss: 0.46766799688339233\n",
      "Epoch 18, Loss: 0.45819953083992004\n",
      "Epoch 19, Loss: 0.4487118124961853\n",
      "Epoch 20, Loss: 0.4388867914676666\n",
      "Boundary points occupancy f1 for 18 sample: 0.9579643596525063\n",
      "Uniform volume points occupancy f1 for 18 sample: 0.9559345191735722\n",
      "\n"
     ]
    },
    {
     "name": "stderr",
     "output_type": "stream",
     "text": [
      "19it [06:20, 11.59s/it]"
     ]
    },
    {
     "name": "stdout",
     "output_type": "stream",
     "text": [
      "Epoch 1, Loss: 0.638314962387085\n",
      "Epoch 2, Loss: 0.6005380153656006\n",
      "Epoch 3, Loss: 0.5766387581825256\n",
      "Epoch 4, Loss: 0.5535152554512024\n",
      "Epoch 5, Loss: 0.5273098945617676\n",
      "Epoch 6, Loss: 0.5092675685882568\n",
      "Epoch 7, Loss: 0.49742960929870605\n",
      "Epoch 8, Loss: 0.4880819320678711\n",
      "Epoch 9, Loss: 0.47959068417549133\n",
      "Epoch 10, Loss: 0.470218688249588\n",
      "Epoch 11, Loss: 0.46001121401786804\n",
      "Epoch 12, Loss: 0.449881911277771\n",
      "Epoch 13, Loss: 0.4402104914188385\n",
      "Epoch 14, Loss: 0.4305567443370819\n",
      "Epoch 15, Loss: 0.4206398129463196\n",
      "Epoch 16, Loss: 0.4104093611240387\n",
      "Epoch 17, Loss: 0.39974096417427063\n",
      "Epoch 18, Loss: 0.3886031210422516\n",
      "Epoch 19, Loss: 0.3772410750389099\n",
      "Epoch 20, Loss: 0.36586275696754456\n",
      "Boundary points occupancy f1 for 19 sample: 0.879869284688196\n",
      "Uniform volume points occupancy f1 for 19 sample: 0.9043452907290946\n",
      "\n"
     ]
    },
    {
     "name": "stderr",
     "output_type": "stream",
     "text": [
      "20it [06:32, 11.63s/it]"
     ]
    },
    {
     "name": "stdout",
     "output_type": "stream",
     "text": [
      "Epoch 1, Loss: 0.698067843914032\n",
      "Epoch 2, Loss: 0.6689810752868652\n",
      "Epoch 3, Loss: 0.6407382488250732\n",
      "Epoch 4, Loss: 0.6189623475074768\n",
      "Epoch 5, Loss: 0.5972029566764832\n",
      "Epoch 6, Loss: 0.5774990320205688\n",
      "Epoch 7, Loss: 0.5656297206878662\n",
      "Epoch 8, Loss: 0.5578488111495972\n",
      "Epoch 9, Loss: 0.5498532652854919\n",
      "Epoch 10, Loss: 0.5406648516654968\n",
      "Epoch 11, Loss: 0.5303837656974792\n",
      "Epoch 12, Loss: 0.5200767517089844\n",
      "Epoch 13, Loss: 0.5109577775001526\n",
      "Epoch 14, Loss: 0.5033054351806641\n",
      "Epoch 15, Loss: 0.4956994950771332\n",
      "Epoch 16, Loss: 0.48740535974502563\n",
      "Epoch 17, Loss: 0.4788278043270111\n",
      "Epoch 18, Loss: 0.47008413076400757\n",
      "Epoch 19, Loss: 0.46116137504577637\n",
      "Epoch 20, Loss: 0.4519646167755127\n",
      "Boundary points occupancy f1 for 20 sample: 0.9573700479910947\n",
      "Uniform volume points occupancy f1 for 20 sample: 0.9615121676124975\n",
      "\n"
     ]
    },
    {
     "name": "stderr",
     "output_type": "stream",
     "text": [
      "21it [06:41, 10.97s/it]"
     ]
    },
    {
     "name": "stdout",
     "output_type": "stream",
     "text": [
      "Epoch 1, Loss: 0.6841233372688293\n",
      "Epoch 2, Loss: 0.63257896900177\n",
      "Epoch 3, Loss: 0.6027812361717224\n",
      "Epoch 4, Loss: 0.5840267539024353\n",
      "Epoch 5, Loss: 0.5565773844718933\n",
      "Epoch 6, Loss: 0.5287681818008423\n",
      "Epoch 7, Loss: 0.5198526978492737\n",
      "Epoch 8, Loss: 0.5150794982910156\n",
      "Epoch 9, Loss: 0.5105211734771729\n",
      "Epoch 10, Loss: 0.504814863204956\n",
      "Epoch 11, Loss: 0.4969850480556488\n",
      "Epoch 12, Loss: 0.48866787552833557\n",
      "Epoch 13, Loss: 0.4812561869621277\n",
      "Epoch 14, Loss: 0.47530829906463623\n",
      "Epoch 15, Loss: 0.4702748954296112\n",
      "Epoch 16, Loss: 0.4646444022655487\n",
      "Epoch 17, Loss: 0.4585685431957245\n",
      "Epoch 18, Loss: 0.4522649347782135\n",
      "Epoch 19, Loss: 0.44519585371017456\n",
      "Epoch 20, Loss: 0.43814918398857117\n",
      "Boundary points occupancy f1 for 21 sample: 0.9525180794692717\n",
      "Uniform volume points occupancy f1 for 21 sample: 0.9489595839936602\n",
      "\n"
     ]
    },
    {
     "name": "stderr",
     "output_type": "stream",
     "text": [
      "22it [06:51, 10.63s/it]"
     ]
    },
    {
     "name": "stdout",
     "output_type": "stream",
     "text": [
      "Epoch 1, Loss: 0.7762123346328735\n",
      "Epoch 2, Loss: 0.7635666131973267\n",
      "Epoch 3, Loss: 0.7410373687744141\n",
      "Epoch 4, Loss: 0.7218702435493469\n",
      "Epoch 5, Loss: 0.7045425176620483\n",
      "Epoch 6, Loss: 0.6880555152893066\n",
      "Epoch 7, Loss: 0.67292720079422\n",
      "Epoch 8, Loss: 0.6600781083106995\n",
      "Epoch 9, Loss: 0.6481307744979858\n",
      "Epoch 10, Loss: 0.6353798508644104\n",
      "Epoch 11, Loss: 0.620909571647644\n",
      "Epoch 12, Loss: 0.6054296493530273\n",
      "Epoch 13, Loss: 0.5902160406112671\n",
      "Epoch 14, Loss: 0.574839174747467\n",
      "Epoch 15, Loss: 0.5589095950126648\n",
      "Epoch 16, Loss: 0.5430952906608582\n",
      "Epoch 17, Loss: 0.5269257426261902\n",
      "Epoch 18, Loss: 0.5100468397140503\n",
      "Epoch 19, Loss: 0.49343353509902954\n",
      "Epoch 20, Loss: 0.4770625829696655\n",
      "Boundary points occupancy f1 for 22 sample: 0.8927334704203297\n",
      "Uniform volume points occupancy f1 for 22 sample: 0.8987530526167224\n",
      "\n"
     ]
    },
    {
     "name": "stderr",
     "output_type": "stream",
     "text": [
      "23it [07:01, 10.42s/it]"
     ]
    },
    {
     "name": "stdout",
     "output_type": "stream",
     "text": [
      "Epoch 1, Loss: 0.6795819401741028\n",
      "Epoch 2, Loss: 0.6618483662605286\n",
      "Epoch 3, Loss: 0.6347659230232239\n",
      "Epoch 4, Loss: 0.6131653785705566\n",
      "Epoch 5, Loss: 0.5932313799858093\n",
      "Epoch 6, Loss: 0.5759118795394897\n",
      "Epoch 7, Loss: 0.5650513768196106\n",
      "Epoch 8, Loss: 0.5574527978897095\n",
      "Epoch 9, Loss: 0.5489509701728821\n",
      "Epoch 10, Loss: 0.538629412651062\n",
      "Epoch 11, Loss: 0.5273644924163818\n",
      "Epoch 12, Loss: 0.5162692070007324\n",
      "Epoch 13, Loss: 0.5061444640159607\n",
      "Epoch 14, Loss: 0.49750617146492004\n",
      "Epoch 15, Loss: 0.48870649933815\n",
      "Epoch 16, Loss: 0.47876396775245667\n",
      "Epoch 17, Loss: 0.46787944436073303\n",
      "Epoch 18, Loss: 0.4564519226551056\n",
      "Epoch 19, Loss: 0.4454263150691986\n",
      "Epoch 20, Loss: 0.4347986876964569\n",
      "Boundary points occupancy f1 for 23 sample: 0.956826249711812\n",
      "Uniform volume points occupancy f1 for 23 sample: 0.8894619572214935\n",
      "\n"
     ]
    },
    {
     "name": "stderr",
     "output_type": "stream",
     "text": [
      "24it [07:11, 10.40s/it]"
     ]
    },
    {
     "name": "stdout",
     "output_type": "stream",
     "text": [
      "Epoch 1, Loss: 0.7564212083816528\n",
      "Epoch 2, Loss: 0.7380776405334473\n",
      "Epoch 3, Loss: 0.7135480642318726\n",
      "Epoch 4, Loss: 0.6937352418899536\n",
      "Epoch 5, Loss: 0.6755769848823547\n",
      "Epoch 6, Loss: 0.659259557723999\n",
      "Epoch 7, Loss: 0.6471548080444336\n",
      "Epoch 8, Loss: 0.6379747986793518\n",
      "Epoch 9, Loss: 0.6290106773376465\n",
      "Epoch 10, Loss: 0.618111252784729\n",
      "Epoch 11, Loss: 0.6051455736160278\n",
      "Epoch 12, Loss: 0.5931586027145386\n",
      "Epoch 13, Loss: 0.5819329023361206\n",
      "Epoch 14, Loss: 0.570582389831543\n",
      "Epoch 15, Loss: 0.559325635433197\n",
      "Epoch 16, Loss: 0.54755699634552\n",
      "Epoch 17, Loss: 0.5347068905830383\n",
      "Epoch 18, Loss: 0.5218027234077454\n",
      "Epoch 19, Loss: 0.5096071362495422\n",
      "Epoch 20, Loss: 0.49704259634017944\n",
      "Boundary points occupancy f1 for 24 sample: 0.9517391876925018\n",
      "Uniform volume points occupancy f1 for 24 sample: 0.9447006447816906\n",
      "\n"
     ]
    },
    {
     "name": "stderr",
     "output_type": "stream",
     "text": [
      "25it [07:16,  8.71s/it]"
     ]
    },
    {
     "name": "stdout",
     "output_type": "stream",
     "text": [
      "Epoch 1, Loss: 0.7162396907806396\n",
      "Epoch 2, Loss: 0.6932188868522644\n",
      "Epoch 3, Loss: 0.6625567674636841\n",
      "Epoch 4, Loss: 0.6382690072059631\n",
      "Epoch 5, Loss: 0.6171106696128845\n",
      "Epoch 6, Loss: 0.5985652208328247\n",
      "Epoch 7, Loss: 0.5846773982048035\n",
      "Epoch 8, Loss: 0.5752283930778503\n",
      "Epoch 9, Loss: 0.5664941072463989\n",
      "Epoch 10, Loss: 0.5558351278305054\n",
      "Epoch 11, Loss: 0.5433210134506226\n",
      "Epoch 12, Loss: 0.5319098830223083\n",
      "Epoch 13, Loss: 0.5220825672149658\n",
      "Epoch 14, Loss: 0.5132741332054138\n",
      "Epoch 15, Loss: 0.5054612159729004\n",
      "Epoch 16, Loss: 0.49700674414634705\n",
      "Epoch 17, Loss: 0.487039178609848\n",
      "Epoch 18, Loss: 0.47678080201148987\n",
      "Epoch 19, Loss: 0.4670697748661041\n",
      "Epoch 20, Loss: 0.45715561509132385\n",
      "Boundary points occupancy f1 for 25 sample: 0.9708216644574457\n",
      "Uniform volume points occupancy f1 for 25 sample: 0.9810066563312487\n",
      "\n"
     ]
    },
    {
     "name": "stderr",
     "output_type": "stream",
     "text": [
      "26it [07:22,  7.89s/it]"
     ]
    },
    {
     "name": "stdout",
     "output_type": "stream",
     "text": [
      "Epoch 1, Loss: 0.6814695000648499\n",
      "Epoch 2, Loss: 0.6319295167922974\n",
      "Epoch 3, Loss: 0.6015173196792603\n",
      "Epoch 4, Loss: 0.5845072269439697\n",
      "Epoch 5, Loss: 0.5593632459640503\n",
      "Epoch 6, Loss: 0.5315290689468384\n",
      "Epoch 7, Loss: 0.5200443267822266\n",
      "Epoch 8, Loss: 0.5144727826118469\n",
      "Epoch 9, Loss: 0.5095922350883484\n",
      "Epoch 10, Loss: 0.5047913193702698\n",
      "Epoch 11, Loss: 0.4979626536369324\n",
      "Epoch 12, Loss: 0.48985904455184937\n",
      "Epoch 13, Loss: 0.48220786452293396\n",
      "Epoch 14, Loss: 0.47581812739372253\n",
      "Epoch 15, Loss: 0.47040215134620667\n",
      "Epoch 16, Loss: 0.4646654725074768\n",
      "Epoch 17, Loss: 0.45851632952690125\n",
      "Epoch 18, Loss: 0.45220041275024414\n",
      "Epoch 19, Loss: 0.44514748454093933\n",
      "Epoch 20, Loss: 0.43801790475845337\n",
      "Boundary points occupancy f1 for 26 sample: 0.9336781892827062\n",
      "Uniform volume points occupancy f1 for 26 sample: 0.9507833729486845\n",
      "\n"
     ]
    },
    {
     "name": "stderr",
     "output_type": "stream",
     "text": [
      "27it [07:31,  8.06s/it]"
     ]
    },
    {
     "name": "stdout",
     "output_type": "stream",
     "text": [
      "Epoch 1, Loss: 0.7727518081665039\n",
      "Epoch 2, Loss: 0.740035355091095\n",
      "Epoch 3, Loss: 0.7082627415657043\n",
      "Epoch 4, Loss: 0.6834412217140198\n",
      "Epoch 5, Loss: 0.6609050035476685\n",
      "Epoch 6, Loss: 0.6373001337051392\n",
      "Epoch 7, Loss: 0.6138743162155151\n",
      "Epoch 8, Loss: 0.5943653583526611\n",
      "Epoch 9, Loss: 0.5789009928703308\n",
      "Epoch 10, Loss: 0.5645329356193542\n",
      "Epoch 11, Loss: 0.5497299432754517\n",
      "Epoch 12, Loss: 0.5346930027008057\n",
      "Epoch 13, Loss: 0.5200452208518982\n",
      "Epoch 14, Loss: 0.5057457089424133\n",
      "Epoch 15, Loss: 0.4916377067565918\n",
      "Epoch 16, Loss: 0.478109747171402\n",
      "Epoch 17, Loss: 0.4655003249645233\n",
      "Epoch 18, Loss: 0.45319199562072754\n",
      "Epoch 19, Loss: 0.44053882360458374\n",
      "Epoch 20, Loss: 0.42752769589424133\n",
      "Boundary points occupancy f1 for 27 sample: 0.8725440079467195\n",
      "Uniform volume points occupancy f1 for 27 sample: 0.8887265618485446\n",
      "\n"
     ]
    },
    {
     "name": "stderr",
     "output_type": "stream",
     "text": [
      "28it [07:49, 11.30s/it]"
     ]
    },
    {
     "name": "stdout",
     "output_type": "stream",
     "text": [
      "Epoch 1, Loss: 0.7958769798278809\n",
      "Epoch 2, Loss: 0.7843091487884521\n",
      "Epoch 3, Loss: 0.763945996761322\n",
      "Epoch 4, Loss: 0.7445718050003052\n",
      "Epoch 5, Loss: 0.7255281805992126\n",
      "Epoch 6, Loss: 0.7067558765411377\n",
      "Epoch 7, Loss: 0.6884046196937561\n",
      "Epoch 8, Loss: 0.6699573993682861\n",
      "Epoch 9, Loss: 0.6504225730895996\n",
      "Epoch 10, Loss: 0.6302433609962463\n",
      "Epoch 11, Loss: 0.6121793389320374\n",
      "Epoch 12, Loss: 0.5954925417900085\n",
      "Epoch 13, Loss: 0.5786354541778564\n",
      "Epoch 14, Loss: 0.560892641544342\n",
      "Epoch 15, Loss: 0.5421991348266602\n",
      "Epoch 16, Loss: 0.522612452507019\n",
      "Epoch 17, Loss: 0.5020233988761902\n",
      "Epoch 18, Loss: 0.48081162571907043\n",
      "Epoch 19, Loss: 0.4598097503185272\n",
      "Epoch 20, Loss: 0.43953683972358704\n",
      "Boundary points occupancy f1 for 28 sample: 0.8917994995079945\n",
      "Uniform volume points occupancy f1 for 28 sample: 0.9370403694589224\n",
      "\n"
     ]
    },
    {
     "name": "stderr",
     "output_type": "stream",
     "text": [
      "29it [07:56,  9.90s/it]"
     ]
    },
    {
     "name": "stdout",
     "output_type": "stream",
     "text": [
      "Epoch 1, Loss: 0.7233719825744629\n",
      "Epoch 2, Loss: 0.690043032169342\n",
      "Epoch 3, Loss: 0.656614363193512\n",
      "Epoch 4, Loss: 0.6279125213623047\n",
      "Epoch 5, Loss: 0.6006749868392944\n",
      "Epoch 6, Loss: 0.5768399238586426\n",
      "Epoch 7, Loss: 0.5603331923484802\n",
      "Epoch 8, Loss: 0.5492476224899292\n",
      "Epoch 9, Loss: 0.5395917892456055\n",
      "Epoch 10, Loss: 0.5290740132331848\n",
      "Epoch 11, Loss: 0.5173044204711914\n",
      "Epoch 12, Loss: 0.5057215094566345\n",
      "Epoch 13, Loss: 0.4948853552341461\n",
      "Epoch 14, Loss: 0.48447898030281067\n",
      "Epoch 15, Loss: 0.4745306670665741\n",
      "Epoch 16, Loss: 0.46455004811286926\n",
      "Epoch 17, Loss: 0.45378682017326355\n",
      "Epoch 18, Loss: 0.4423442482948303\n",
      "Epoch 19, Loss: 0.43078431487083435\n",
      "Epoch 20, Loss: 0.4190707206726074\n",
      "Boundary points occupancy f1 for 29 sample: 0.9138096647050106\n",
      "Uniform volume points occupancy f1 for 29 sample: 0.9409016830857599\n",
      "\n"
     ]
    },
    {
     "name": "stderr",
     "output_type": "stream",
     "text": [
      "30it [08:05,  9.62s/it]"
     ]
    },
    {
     "name": "stdout",
     "output_type": "stream",
     "text": [
      "Epoch 1, Loss: 0.699271559715271\n",
      "Epoch 2, Loss: 0.6510222554206848\n",
      "Epoch 3, Loss: 0.619645893573761\n",
      "Epoch 4, Loss: 0.5996047258377075\n",
      "Epoch 5, Loss: 0.5741869807243347\n",
      "Epoch 6, Loss: 0.5483811497688293\n",
      "Epoch 7, Loss: 0.5352398157119751\n",
      "Epoch 8, Loss: 0.5282694697380066\n",
      "Epoch 9, Loss: 0.5216567516326904\n",
      "Epoch 10, Loss: 0.5149023532867432\n",
      "Epoch 11, Loss: 0.5070428848266602\n",
      "Epoch 12, Loss: 0.4985678791999817\n",
      "Epoch 13, Loss: 0.490505576133728\n",
      "Epoch 14, Loss: 0.4835319221019745\n",
      "Epoch 15, Loss: 0.47744691371917725\n",
      "Epoch 16, Loss: 0.471082478761673\n",
      "Epoch 17, Loss: 0.4642851948738098\n",
      "Epoch 18, Loss: 0.45755964517593384\n",
      "Epoch 19, Loss: 0.4504651129245758\n",
      "Epoch 20, Loss: 0.4432821571826935\n",
      "Boundary points occupancy f1 for 30 sample: 0.8917455804793759\n",
      "Uniform volume points occupancy f1 for 30 sample: 0.914869434649312\n",
      "\n"
     ]
    },
    {
     "name": "stderr",
     "output_type": "stream",
     "text": [
      "31it [08:20, 11.11s/it]"
     ]
    },
    {
     "name": "stdout",
     "output_type": "stream",
     "text": [
      "Epoch 1, Loss: 0.7743005156517029\n",
      "Epoch 2, Loss: 0.7616180181503296\n",
      "Epoch 3, Loss: 0.7387831211090088\n",
      "Epoch 4, Loss: 0.7183113694190979\n",
      "Epoch 5, Loss: 0.6994693875312805\n",
      "Epoch 6, Loss: 0.6814104914665222\n",
      "Epoch 7, Loss: 0.6642833352088928\n",
      "Epoch 8, Loss: 0.6489081382751465\n",
      "Epoch 9, Loss: 0.6350058317184448\n",
      "Epoch 10, Loss: 0.6215091943740845\n",
      "Epoch 11, Loss: 0.6071650981903076\n",
      "Epoch 12, Loss: 0.5916316509246826\n",
      "Epoch 13, Loss: 0.5758734941482544\n",
      "Epoch 14, Loss: 0.5604019165039062\n",
      "Epoch 15, Loss: 0.5445793271064758\n",
      "Epoch 16, Loss: 0.5287513732910156\n",
      "Epoch 17, Loss: 0.5134061574935913\n",
      "Epoch 18, Loss: 0.4979598820209503\n",
      "Epoch 19, Loss: 0.4820706248283386\n",
      "Epoch 20, Loss: 0.46595078706741333\n",
      "Boundary points occupancy f1 for 31 sample: 0.9120010326769374\n",
      "Uniform volume points occupancy f1 for 31 sample: 0.9099513462288847\n",
      "\n"
     ]
    },
    {
     "name": "stderr",
     "output_type": "stream",
     "text": [
      "32it [08:48, 16.31s/it]"
     ]
    },
    {
     "name": "stdout",
     "output_type": "stream",
     "text": [
      "Epoch 1, Loss: 0.677344024181366\n",
      "Epoch 2, Loss: 0.6599897742271423\n",
      "Epoch 3, Loss: 0.6325945258140564\n",
      "Epoch 4, Loss: 0.6105388402938843\n",
      "Epoch 5, Loss: 0.5900862216949463\n",
      "Epoch 6, Loss: 0.5724640488624573\n",
      "Epoch 7, Loss: 0.561285674571991\n",
      "Epoch 8, Loss: 0.5533497333526611\n",
      "Epoch 9, Loss: 0.5443711280822754\n",
      "Epoch 10, Loss: 0.5335270166397095\n",
      "Epoch 11, Loss: 0.5220032334327698\n",
      "Epoch 12, Loss: 0.5107966661453247\n",
      "Epoch 13, Loss: 0.5006171464920044\n",
      "Epoch 14, Loss: 0.4917193651199341\n",
      "Epoch 15, Loss: 0.48234081268310547\n",
      "Epoch 16, Loss: 0.4718107581138611\n",
      "Epoch 17, Loss: 0.460405558347702\n",
      "Epoch 18, Loss: 0.44887423515319824\n",
      "Epoch 19, Loss: 0.4380253851413727\n",
      "Epoch 20, Loss: 0.4274216294288635\n",
      "Boundary points occupancy f1 for 32 sample: 0.9530585008258554\n",
      "Uniform volume points occupancy f1 for 32 sample: 0.9372461391027556\n",
      "\n"
     ]
    },
    {
     "name": "stderr",
     "output_type": "stream",
     "text": [
      "33it [08:53, 13.01s/it]"
     ]
    },
    {
     "name": "stdout",
     "output_type": "stream",
     "text": [
      "Epoch 1, Loss: 0.6960631608963013\n",
      "Epoch 2, Loss: 0.6678821444511414\n",
      "Epoch 3, Loss: 0.6381636261940002\n",
      "Epoch 4, Loss: 0.6138010621070862\n",
      "Epoch 5, Loss: 0.591301441192627\n",
      "Epoch 6, Loss: 0.5738048553466797\n",
      "Epoch 7, Loss: 0.5632302761077881\n",
      "Epoch 8, Loss: 0.5554224848747253\n",
      "Epoch 9, Loss: 0.546877384185791\n",
      "Epoch 10, Loss: 0.5364809632301331\n",
      "Epoch 11, Loss: 0.5251670479774475\n",
      "Epoch 12, Loss: 0.5144625902175903\n",
      "Epoch 13, Loss: 0.5051239132881165\n",
      "Epoch 14, Loss: 0.49674350023269653\n",
      "Epoch 15, Loss: 0.48782140016555786\n",
      "Epoch 16, Loss: 0.4778389036655426\n",
      "Epoch 17, Loss: 0.46771031618118286\n",
      "Epoch 18, Loss: 0.4575951099395752\n",
      "Epoch 19, Loss: 0.4474101960659027\n",
      "Epoch 20, Loss: 0.43703174591064453\n",
      "Boundary points occupancy f1 for 33 sample: 0.9538480852010867\n",
      "Uniform volume points occupancy f1 for 33 sample: 0.9629329386432641\n",
      "\n"
     ]
    },
    {
     "name": "stderr",
     "output_type": "stream",
     "text": [
      "34it [09:02, 11.57s/it]"
     ]
    },
    {
     "name": "stdout",
     "output_type": "stream",
     "text": [
      "Epoch 1, Loss: 0.6602599620819092\n",
      "Epoch 2, Loss: 0.6352138519287109\n",
      "Epoch 3, Loss: 0.6065818667411804\n",
      "Epoch 4, Loss: 0.5796608924865723\n",
      "Epoch 5, Loss: 0.5555920600891113\n",
      "Epoch 6, Loss: 0.537099301815033\n",
      "Epoch 7, Loss: 0.52403324842453\n",
      "Epoch 8, Loss: 0.5138392448425293\n",
      "Epoch 9, Loss: 0.5038245916366577\n",
      "Epoch 10, Loss: 0.49276673793792725\n",
      "Epoch 11, Loss: 0.4808829724788666\n",
      "Epoch 12, Loss: 0.46903863549232483\n",
      "Epoch 13, Loss: 0.4575987458229065\n",
      "Epoch 14, Loss: 0.4462900161743164\n",
      "Epoch 15, Loss: 0.4345805048942566\n",
      "Epoch 16, Loss: 0.42239660024642944\n",
      "Epoch 17, Loss: 0.4099787473678589\n",
      "Epoch 18, Loss: 0.39742130041122437\n",
      "Epoch 19, Loss: 0.3847595155239105\n",
      "Epoch 20, Loss: 0.37203094363212585\n",
      "Boundary points occupancy f1 for 34 sample: 0.8864619306941538\n",
      "Uniform volume points occupancy f1 for 34 sample: 0.918734874810096\n",
      "\n"
     ]
    },
    {
     "name": "stderr",
     "output_type": "stream",
     "text": [
      "35it [09:11, 10.84s/it]"
     ]
    },
    {
     "name": "stdout",
     "output_type": "stream",
     "text": [
      "Epoch 1, Loss: 0.6586227416992188\n",
      "Epoch 2, Loss: 0.6364104151725769\n",
      "Epoch 3, Loss: 0.6086309552192688\n",
      "Epoch 4, Loss: 0.5834494829177856\n",
      "Epoch 5, Loss: 0.5613413453102112\n",
      "Epoch 6, Loss: 0.5447260141372681\n",
      "Epoch 7, Loss: 0.5330774188041687\n",
      "Epoch 8, Loss: 0.5234858989715576\n",
      "Epoch 9, Loss: 0.5135679244995117\n",
      "Epoch 10, Loss: 0.502565324306488\n",
      "Epoch 11, Loss: 0.4908691942691803\n",
      "Epoch 12, Loss: 0.47919031977653503\n",
      "Epoch 13, Loss: 0.4681226313114166\n",
      "Epoch 14, Loss: 0.4572748839855194\n",
      "Epoch 15, Loss: 0.44584137201309204\n",
      "Epoch 16, Loss: 0.4338170289993286\n",
      "Epoch 17, Loss: 0.42136579751968384\n",
      "Epoch 18, Loss: 0.40858080983161926\n",
      "Epoch 19, Loss: 0.3958619236946106\n",
      "Epoch 20, Loss: 0.3831442594528198\n",
      "Boundary points occupancy f1 for 35 sample: 0.9282282912688476\n",
      "Uniform volume points occupancy f1 for 35 sample: 0.9670143754708315\n",
      "\n"
     ]
    },
    {
     "name": "stderr",
     "output_type": "stream",
     "text": [
      "36it [09:17,  9.57s/it]"
     ]
    },
    {
     "name": "stdout",
     "output_type": "stream",
     "text": [
      "Epoch 1, Loss: 0.6578349471092224\n",
      "Epoch 2, Loss: 0.6373279690742493\n",
      "Epoch 3, Loss: 0.6101561784744263\n",
      "Epoch 4, Loss: 0.5857022404670715\n",
      "Epoch 5, Loss: 0.5641229748725891\n",
      "Epoch 6, Loss: 0.54756760597229\n",
      "Epoch 7, Loss: 0.5360155701637268\n",
      "Epoch 8, Loss: 0.5265283584594727\n",
      "Epoch 9, Loss: 0.5167128443717957\n",
      "Epoch 10, Loss: 0.5057036876678467\n",
      "Epoch 11, Loss: 0.49407950043678284\n",
      "Epoch 12, Loss: 0.4828653931617737\n",
      "Epoch 13, Loss: 0.4724680483341217\n",
      "Epoch 14, Loss: 0.46233895421028137\n",
      "Epoch 15, Loss: 0.4515368938446045\n",
      "Epoch 16, Loss: 0.43989354372024536\n",
      "Epoch 17, Loss: 0.4277670681476593\n",
      "Epoch 18, Loss: 0.41554585099220276\n",
      "Epoch 19, Loss: 0.4034460484981537\n",
      "Epoch 20, Loss: 0.3913154602050781\n",
      "Boundary points occupancy f1 for 36 sample: 0.9427591880708063\n",
      "Uniform volume points occupancy f1 for 36 sample: 0.9635387025776645\n",
      "\n"
     ]
    },
    {
     "name": "stderr",
     "output_type": "stream",
     "text": [
      "37it [09:23,  8.55s/it]"
     ]
    },
    {
     "name": "stdout",
     "output_type": "stream",
     "text": [
      "Epoch 1, Loss: 0.7119917273521423\n",
      "Epoch 2, Loss: 0.6932218670845032\n",
      "Epoch 3, Loss: 0.6662628650665283\n",
      "Epoch 4, Loss: 0.6449318528175354\n",
      "Epoch 5, Loss: 0.625635027885437\n",
      "Epoch 6, Loss: 0.6080416440963745\n",
      "Epoch 7, Loss: 0.5956148505210876\n",
      "Epoch 8, Loss: 0.5870606303215027\n",
      "Epoch 9, Loss: 0.5784656405448914\n",
      "Epoch 10, Loss: 0.5679863691329956\n",
      "Epoch 11, Loss: 0.556037425994873\n",
      "Epoch 12, Loss: 0.5442977547645569\n",
      "Epoch 13, Loss: 0.5331266522407532\n",
      "Epoch 14, Loss: 0.5230299234390259\n",
      "Epoch 15, Loss: 0.5137951970100403\n",
      "Epoch 16, Loss: 0.5038707256317139\n",
      "Epoch 17, Loss: 0.49296867847442627\n",
      "Epoch 18, Loss: 0.4816166162490845\n",
      "Epoch 19, Loss: 0.47005516290664673\n",
      "Epoch 20, Loss: 0.4585743248462677\n",
      "Boundary points occupancy f1 for 37 sample: 0.9588999484899383\n",
      "Uniform volume points occupancy f1 for 37 sample: 0.9428421173039467\n",
      "\n"
     ]
    },
    {
     "name": "stderr",
     "output_type": "stream",
     "text": [
      "38it [09:31,  8.16s/it]"
     ]
    },
    {
     "name": "stdout",
     "output_type": "stream",
     "text": [
      "Epoch 1, Loss: 0.6878045201301575\n",
      "Epoch 2, Loss: 0.6362553834915161\n",
      "Epoch 3, Loss: 0.604924738407135\n",
      "Epoch 4, Loss: 0.5875700116157532\n",
      "Epoch 5, Loss: 0.5613452196121216\n",
      "Epoch 6, Loss: 0.5318735241889954\n",
      "Epoch 7, Loss: 0.5203007459640503\n",
      "Epoch 8, Loss: 0.5151548981666565\n",
      "Epoch 9, Loss: 0.5104907751083374\n",
      "Epoch 10, Loss: 0.5057579278945923\n",
      "Epoch 11, Loss: 0.49900326132774353\n",
      "Epoch 12, Loss: 0.4909502863883972\n",
      "Epoch 13, Loss: 0.48324012756347656\n",
      "Epoch 14, Loss: 0.47685790061950684\n",
      "Epoch 15, Loss: 0.471958190202713\n",
      "Epoch 16, Loss: 0.46687349677085876\n",
      "Epoch 17, Loss: 0.4609155058860779\n",
      "Epoch 18, Loss: 0.4548759460449219\n",
      "Epoch 19, Loss: 0.4482312500476837\n",
      "Epoch 20, Loss: 0.4411543607711792\n",
      "Boundary points occupancy f1 for 38 sample: 0.9246447551415403\n",
      "Uniform volume points occupancy f1 for 38 sample: 0.9062695593205495\n",
      "\n"
     ]
    },
    {
     "name": "stderr",
     "output_type": "stream",
     "text": [
      "39it [09:41,  8.66s/it]"
     ]
    },
    {
     "name": "stdout",
     "output_type": "stream",
     "text": [
      "Epoch 1, Loss: 0.671623706817627\n",
      "Epoch 2, Loss: 0.6563727259635925\n",
      "Epoch 3, Loss: 0.6290886402130127\n",
      "Epoch 4, Loss: 0.6059569716453552\n",
      "Epoch 5, Loss: 0.5855751037597656\n",
      "Epoch 6, Loss: 0.5672383904457092\n",
      "Epoch 7, Loss: 0.5527490973472595\n",
      "Epoch 8, Loss: 0.5424140095710754\n",
      "Epoch 9, Loss: 0.5328077077865601\n",
      "Epoch 10, Loss: 0.5218008756637573\n",
      "Epoch 11, Loss: 0.5098221898078918\n",
      "Epoch 12, Loss: 0.4975547194480896\n",
      "Epoch 13, Loss: 0.48497259616851807\n",
      "Epoch 14, Loss: 0.47306200861930847\n",
      "Epoch 15, Loss: 0.46133115887641907\n",
      "Epoch 16, Loss: 0.44895002245903015\n",
      "Epoch 17, Loss: 0.435892254114151\n",
      "Epoch 18, Loss: 0.4220043122768402\n",
      "Epoch 19, Loss: 0.4077989161014557\n",
      "Epoch 20, Loss: 0.3937400281429291\n",
      "Boundary points occupancy f1 for 39 sample: 0.9281958841635891\n",
      "Uniform volume points occupancy f1 for 39 sample: 0.8955137625964191\n",
      "\n"
     ]
    },
    {
     "name": "stderr",
     "output_type": "stream",
     "text": [
      "40it [09:47,  7.88s/it]"
     ]
    },
    {
     "name": "stdout",
     "output_type": "stream",
     "text": [
      "Epoch 1, Loss: 0.709504246711731\n",
      "Epoch 2, Loss: 0.6813299059867859\n",
      "Epoch 3, Loss: 0.6496729254722595\n",
      "Epoch 4, Loss: 0.6259827613830566\n",
      "Epoch 5, Loss: 0.603675901889801\n",
      "Epoch 6, Loss: 0.5820980072021484\n",
      "Epoch 7, Loss: 0.5678087472915649\n",
      "Epoch 8, Loss: 0.5608742833137512\n",
      "Epoch 9, Loss: 0.5542922616004944\n",
      "Epoch 10, Loss: 0.545620322227478\n",
      "Epoch 11, Loss: 0.5349308848381042\n",
      "Epoch 12, Loss: 0.5238144993782043\n",
      "Epoch 13, Loss: 0.5137289762496948\n",
      "Epoch 14, Loss: 0.5053941011428833\n",
      "Epoch 15, Loss: 0.49837857484817505\n",
      "Epoch 16, Loss: 0.4904964566230774\n",
      "Epoch 17, Loss: 0.4812152087688446\n",
      "Epoch 18, Loss: 0.47152605652809143\n",
      "Epoch 19, Loss: 0.46189218759536743\n",
      "Epoch 20, Loss: 0.45228657126426697\n",
      "Boundary points occupancy f1 for 40 sample: 0.9567721485207432\n",
      "Uniform volume points occupancy f1 for 40 sample: 0.9729805317651351\n",
      "\n"
     ]
    },
    {
     "name": "stderr",
     "output_type": "stream",
     "text": [
      "41it [09:53,  7.55s/it]"
     ]
    },
    {
     "name": "stdout",
     "output_type": "stream",
     "text": [
      "Epoch 1, Loss: 0.7878620028495789\n",
      "Epoch 2, Loss: 0.7699868679046631\n",
      "Epoch 3, Loss: 0.7455406188964844\n",
      "Epoch 4, Loss: 0.7221360206604004\n",
      "Epoch 5, Loss: 0.6988407373428345\n",
      "Epoch 6, Loss: 0.675544023513794\n",
      "Epoch 7, Loss: 0.6534605622291565\n",
      "Epoch 8, Loss: 0.6349268555641174\n",
      "Epoch 9, Loss: 0.6193596124649048\n",
      "Epoch 10, Loss: 0.6045892834663391\n",
      "Epoch 11, Loss: 0.5893624424934387\n",
      "Epoch 12, Loss: 0.5732225179672241\n",
      "Epoch 13, Loss: 0.5566733479499817\n",
      "Epoch 14, Loss: 0.5406067371368408\n",
      "Epoch 15, Loss: 0.5254799127578735\n",
      "Epoch 16, Loss: 0.5109335780143738\n",
      "Epoch 17, Loss: 0.49636924266815186\n",
      "Epoch 18, Loss: 0.48142343759536743\n",
      "Epoch 19, Loss: 0.46615302562713623\n",
      "Epoch 20, Loss: 0.4504380524158478\n",
      "Boundary points occupancy f1 for 41 sample: 0.8691695228234217\n",
      "Uniform volume points occupancy f1 for 41 sample: 0.9079006932178753\n",
      "\n"
     ]
    },
    {
     "name": "stderr",
     "output_type": "stream",
     "text": [
      "42it [10:12, 11.03s/it]"
     ]
    },
    {
     "name": "stdout",
     "output_type": "stream",
     "text": [
      "Epoch 1, Loss: 0.7454560995101929\n",
      "Epoch 2, Loss: 0.7248771786689758\n",
      "Epoch 3, Loss: 0.6987746953964233\n",
      "Epoch 4, Loss: 0.6777474284172058\n",
      "Epoch 5, Loss: 0.6577695608139038\n",
      "Epoch 6, Loss: 0.639186441898346\n",
      "Epoch 7, Loss: 0.6252440810203552\n",
      "Epoch 8, Loss: 0.6150068640708923\n",
      "Epoch 9, Loss: 0.6050974130630493\n",
      "Epoch 10, Loss: 0.5937103629112244\n",
      "Epoch 11, Loss: 0.5806452035903931\n",
      "Epoch 12, Loss: 0.5673186182975769\n",
      "Epoch 13, Loss: 0.554499089717865\n",
      "Epoch 14, Loss: 0.5419111251831055\n",
      "Epoch 15, Loss: 0.5303029417991638\n",
      "Epoch 16, Loss: 0.5199499726295471\n",
      "Epoch 17, Loss: 0.5093100666999817\n",
      "Epoch 18, Loss: 0.4980142414569855\n",
      "Epoch 19, Loss: 0.48702964186668396\n",
      "Epoch 20, Loss: 0.475739061832428\n",
      "Boundary points occupancy f1 for 42 sample: 0.9595793205267031\n",
      "Uniform volume points occupancy f1 for 42 sample: 0.9813022524914654\n",
      "\n"
     ]
    },
    {
     "name": "stderr",
     "output_type": "stream",
     "text": [
      "43it [10:22, 10.49s/it]"
     ]
    },
    {
     "name": "stdout",
     "output_type": "stream",
     "text": [
      "Epoch 1, Loss: 0.6547554731369019\n",
      "Epoch 2, Loss: 0.6352956295013428\n",
      "Epoch 3, Loss: 0.6070362329483032\n",
      "Epoch 4, Loss: 0.5820969343185425\n",
      "Epoch 5, Loss: 0.560001015663147\n",
      "Epoch 6, Loss: 0.5419171452522278\n",
      "Epoch 7, Loss: 0.52843177318573\n",
      "Epoch 8, Loss: 0.5175051093101501\n",
      "Epoch 9, Loss: 0.5066456198692322\n",
      "Epoch 10, Loss: 0.49482330679893494\n",
      "Epoch 11, Loss: 0.4823823869228363\n",
      "Epoch 12, Loss: 0.46992531418800354\n",
      "Epoch 13, Loss: 0.45775744318962097\n",
      "Epoch 14, Loss: 0.44584664702415466\n",
      "Epoch 15, Loss: 0.43354862928390503\n",
      "Epoch 16, Loss: 0.42071545124053955\n",
      "Epoch 17, Loss: 0.40740716457366943\n",
      "Epoch 18, Loss: 0.39407968521118164\n",
      "Epoch 19, Loss: 0.3810734450817108\n",
      "Epoch 20, Loss: 0.3684020936489105\n",
      "Boundary points occupancy f1 for 43 sample: 0.9318557234657805\n",
      "Uniform volume points occupancy f1 for 43 sample: 0.9595826963862268\n",
      "\n"
     ]
    },
    {
     "name": "stderr",
     "output_type": "stream",
     "text": [
      "44it [10:28,  9.35s/it]"
     ]
    },
    {
     "name": "stdout",
     "output_type": "stream",
     "text": [
      "Epoch 1, Loss: 0.6983831524848938\n",
      "Epoch 2, Loss: 0.6734969615936279\n",
      "Epoch 3, Loss: 0.6419976353645325\n",
      "Epoch 4, Loss: 0.6172109246253967\n",
      "Epoch 5, Loss: 0.5961310267448425\n",
      "Epoch 6, Loss: 0.5784075856208801\n",
      "Epoch 7, Loss: 0.5661677718162537\n",
      "Epoch 8, Loss: 0.5585889220237732\n",
      "Epoch 9, Loss: 0.5510494709014893\n",
      "Epoch 10, Loss: 0.5411013960838318\n",
      "Epoch 11, Loss: 0.5298377871513367\n",
      "Epoch 12, Loss: 0.5198028683662415\n",
      "Epoch 13, Loss: 0.5108730792999268\n",
      "Epoch 14, Loss: 0.5034410357475281\n",
      "Epoch 15, Loss: 0.49676069617271423\n",
      "Epoch 16, Loss: 0.48884183168411255\n",
      "Epoch 17, Loss: 0.4797581136226654\n",
      "Epoch 18, Loss: 0.47086820006370544\n",
      "Epoch 19, Loss: 0.46200475096702576\n",
      "Epoch 20, Loss: 0.45321106910705566\n",
      "Boundary points occupancy f1 for 44 sample: 0.9698637237754295\n",
      "Uniform volume points occupancy f1 for 44 sample: 0.9838664664860851\n",
      "\n"
     ]
    },
    {
     "name": "stderr",
     "output_type": "stream",
     "text": [
      "45it [10:35,  8.46s/it]"
     ]
    },
    {
     "name": "stdout",
     "output_type": "stream",
     "text": [
      "Epoch 1, Loss: 0.6766497492790222\n",
      "Epoch 2, Loss: 0.6539069414138794\n",
      "Epoch 3, Loss: 0.6285809874534607\n",
      "Epoch 4, Loss: 0.6062696576118469\n",
      "Epoch 5, Loss: 0.5850250124931335\n",
      "Epoch 6, Loss: 0.5694893002510071\n",
      "Epoch 7, Loss: 0.5596412420272827\n",
      "Epoch 8, Loss: 0.5513916015625\n",
      "Epoch 9, Loss: 0.5425623059272766\n",
      "Epoch 10, Loss: 0.5325167775154114\n",
      "Epoch 11, Loss: 0.5219336748123169\n",
      "Epoch 12, Loss: 0.5117190480232239\n",
      "Epoch 13, Loss: 0.5025596022605896\n",
      "Epoch 14, Loss: 0.4940846562385559\n",
      "Epoch 15, Loss: 0.4852159023284912\n",
      "Epoch 16, Loss: 0.47564294934272766\n",
      "Epoch 17, Loss: 0.4654570519924164\n",
      "Epoch 18, Loss: 0.4548431932926178\n",
      "Epoch 19, Loss: 0.44405287504196167\n",
      "Epoch 20, Loss: 0.4332915246486664\n",
      "Boundary points occupancy f1 for 45 sample: 0.9461078634503733\n",
      "Uniform volume points occupancy f1 for 45 sample: 0.9011045003050746\n",
      "\n"
     ]
    },
    {
     "name": "stderr",
     "output_type": "stream",
     "text": [
      "46it [10:45,  8.89s/it]"
     ]
    },
    {
     "name": "stdout",
     "output_type": "stream",
     "text": [
      "Epoch 1, Loss: 0.6887081265449524\n",
      "Epoch 2, Loss: 0.6596167683601379\n",
      "Epoch 3, Loss: 0.6293221116065979\n",
      "Epoch 4, Loss: 0.6054872274398804\n",
      "Epoch 5, Loss: 0.5828076004981995\n",
      "Epoch 6, Loss: 0.5643378496170044\n",
      "Epoch 7, Loss: 0.5543813705444336\n",
      "Epoch 8, Loss: 0.5481238961219788\n",
      "Epoch 9, Loss: 0.5409814715385437\n",
      "Epoch 10, Loss: 0.5317172408103943\n",
      "Epoch 11, Loss: 0.5210261940956116\n",
      "Epoch 12, Loss: 0.5108857750892639\n",
      "Epoch 13, Loss: 0.5025097727775574\n",
      "Epoch 14, Loss: 0.49561601877212524\n",
      "Epoch 15, Loss: 0.4882107675075531\n",
      "Epoch 16, Loss: 0.479503870010376\n",
      "Epoch 17, Loss: 0.4703148305416107\n",
      "Epoch 18, Loss: 0.46112769842147827\n",
      "Epoch 19, Loss: 0.45194345712661743\n",
      "Epoch 20, Loss: 0.4426516890525818\n",
      "Boundary points occupancy f1 for 46 sample: 0.9610937751512145\n",
      "Uniform volume points occupancy f1 for 46 sample: 0.9802402566954423\n",
      "\n"
     ]
    },
    {
     "name": "stderr",
     "output_type": "stream",
     "text": [
      "47it [10:52,  8.38s/it]"
     ]
    },
    {
     "name": "stdout",
     "output_type": "stream",
     "text": [
      "Epoch 1, Loss: 0.663537323474884\n",
      "Epoch 2, Loss: 0.6223759651184082\n",
      "Epoch 3, Loss: 0.595320999622345\n",
      "Epoch 4, Loss: 0.576101541519165\n",
      "Epoch 5, Loss: 0.5502793788909912\n",
      "Epoch 6, Loss: 0.5288951396942139\n",
      "Epoch 7, Loss: 0.5213141441345215\n",
      "Epoch 8, Loss: 0.5159491300582886\n",
      "Epoch 9, Loss: 0.5108054280281067\n",
      "Epoch 10, Loss: 0.5035701990127563\n",
      "Epoch 11, Loss: 0.494961678981781\n",
      "Epoch 12, Loss: 0.48713138699531555\n",
      "Epoch 13, Loss: 0.48079973459243774\n",
      "Epoch 14, Loss: 0.4750824272632599\n",
      "Epoch 15, Loss: 0.4691668152809143\n",
      "Epoch 16, Loss: 0.4631880521774292\n",
      "Epoch 17, Loss: 0.4569278061389923\n",
      "Epoch 18, Loss: 0.4498051404953003\n",
      "Epoch 19, Loss: 0.44233205914497375\n",
      "Epoch 20, Loss: 0.43487513065338135\n",
      "Boundary points occupancy f1 for 47 sample: 0.9627304679441684\n",
      "Uniform volume points occupancy f1 for 47 sample: 0.9745022991719691\n",
      "\n"
     ]
    },
    {
     "name": "stderr",
     "output_type": "stream",
     "text": [
      "48it [10:58,  7.66s/it]"
     ]
    },
    {
     "name": "stdout",
     "output_type": "stream",
     "text": [
      "Epoch 1, Loss: 0.7001197934150696\n",
      "Epoch 2, Loss: 0.6636274456977844\n",
      "Epoch 3, Loss: 0.6310111284255981\n",
      "Epoch 4, Loss: 0.6078565120697021\n",
      "Epoch 5, Loss: 0.584139883518219\n",
      "Epoch 6, Loss: 0.5613991022109985\n",
      "Epoch 7, Loss: 0.549737274646759\n",
      "Epoch 8, Loss: 0.5443252325057983\n",
      "Epoch 9, Loss: 0.5385046601295471\n",
      "Epoch 10, Loss: 0.5310522317886353\n",
      "Epoch 11, Loss: 0.5218934416770935\n",
      "Epoch 12, Loss: 0.5121844410896301\n",
      "Epoch 13, Loss: 0.5034648180007935\n",
      "Epoch 14, Loss: 0.49642816185951233\n",
      "Epoch 15, Loss: 0.489986777305603\n",
      "Epoch 16, Loss: 0.48265159130096436\n",
      "Epoch 17, Loss: 0.4745985269546509\n",
      "Epoch 18, Loss: 0.4664662480354309\n",
      "Epoch 19, Loss: 0.4580119550228119\n",
      "Epoch 20, Loss: 0.4494364261627197\n",
      "Boundary points occupancy f1 for 48 sample: 0.9427653356784886\n",
      "Uniform volume points occupancy f1 for 48 sample: 0.9547050996856574\n",
      "\n"
     ]
    },
    {
     "name": "stderr",
     "output_type": "stream",
     "text": [
      "49it [11:06,  7.71s/it]"
     ]
    },
    {
     "name": "stdout",
     "output_type": "stream",
     "text": [
      "Epoch 1, Loss: 0.7632433772087097\n",
      "Epoch 2, Loss: 0.7134689688682556\n",
      "Epoch 3, Loss: 0.6782401204109192\n",
      "Epoch 4, Loss: 0.6571341753005981\n",
      "Epoch 5, Loss: 0.6344645023345947\n",
      "Epoch 6, Loss: 0.6046249866485596\n",
      "Epoch 7, Loss: 0.5778036713600159\n",
      "Epoch 8, Loss: 0.5641870498657227\n",
      "Epoch 9, Loss: 0.553246021270752\n",
      "Epoch 10, Loss: 0.5405564308166504\n",
      "Epoch 11, Loss: 0.5268561840057373\n",
      "Epoch 12, Loss: 0.5132336020469666\n",
      "Epoch 13, Loss: 0.4997406601905823\n",
      "Epoch 14, Loss: 0.48548880219459534\n",
      "Epoch 15, Loss: 0.4707809090614319\n",
      "Epoch 16, Loss: 0.456971675157547\n",
      "Epoch 17, Loss: 0.4439125657081604\n",
      "Epoch 18, Loss: 0.430400550365448\n",
      "Epoch 19, Loss: 0.4173884093761444\n",
      "Epoch 20, Loss: 0.40607428550720215\n",
      "Boundary points occupancy f1 for 49 sample: 0.6868718597505963\n",
      "Uniform volume points occupancy f1 for 49 sample: 0.7727247726997724\n",
      "\n"
     ]
    },
    {
     "name": "stderr",
     "output_type": "stream",
     "text": [
      "50it [11:19, 13.60s/it]\n"
     ]
    }
   ],
   "source": [
    "surface_scores_f1 = []\n",
    "volume_scores_f1 = []\n",
    "\n",
    "for i, obj_name in tqdm(enumerate(os.listdir(DATASET_DIR))):\n",
    "    pth = os.path.join(DATASET_DIR, obj_name)\n",
    "    mesh = get_norm_mesh(pth)\n",
    "    surface_pts = get_surface_points(mesh)\n",
    "    volume_pts = get_volume_points()\n",
    "    model = train_model(mesh, surface_pts, volume_pts, EPOCHS, LR)\n",
    "    surface_points_f1 = calculate_occupancy_f1(mesh, model, surface_pts)\n",
    "    volume_points_f1 = calculate_occupancy_f1(mesh, model, volume_pts)\n",
    "    surface_scores_f1.append(surface_points_f1)\n",
    "    volume_scores_f1.append(volume_points_f1)\n",
    "    print(f\"Boundary points occupancy f1 for {i} sample: {surface_points_f1}\")\n",
    "    print(f\"Uniform volume points occupancy f1 for {i} sample: {volume_points_f1}\\n\")\n",
    "    \n",
    "    # uncomment if you want to save separate model\n",
    "    pth_to_save = os.path.join(CKPTS_DIR, f'model_{i}.pth.tar')\n",
    "    torch.save({\n",
    "    'state_dict': model.state_dict()\n",
    "    }, pth_to_save)\n",
    "    "
   ]
  },
  {
   "cell_type": "code",
   "execution_count": 9,
   "metadata": {},
   "outputs": [
    {
     "name": "stdout",
     "output_type": "stream",
     "text": [
      "Average F1 score near the surface points for all dataset: 0.9180649626692536\n"
     ]
    }
   ],
   "source": [
    "print(f'Average F1 score near the surface points for all dataset: {np.mean(surface_scores_f1)}')"
   ]
  },
  {
   "cell_type": "code",
   "execution_count": 10,
   "metadata": {},
   "outputs": [
    {
     "name": "stdout",
     "output_type": "stream",
     "text": [
      "Average F1 score in the bounding volume points for all dataset: 0.9285064997916319\n"
     ]
    }
   ],
   "source": [
    "print(f'Average F1 score in the bounding volume points for all dataset: {np.mean(volume_scores_f1)}')"
   ]
  },
  {
   "cell_type": "code",
   "execution_count": 12,
   "metadata": {},
   "outputs": [],
   "source": [
    "with open('evaluation_f1_scores.txt', 'w') as file:\n",
    "    for i, obj_name in enumerate(os.listdir(DATASET_DIR)):\n",
    "        pth_to_obj = os.path.join(DATASET_DIR, obj_name)\n",
    "        model_name = f'model_{i}.pth.tar'\n",
    "        pth_to_model = os.path.join(CKPTS_DIR, model_name)\n",
    "        surface_points_f1 = surface_scores_f1[i]\n",
    "        volume_points_f1 = volume_scores_f1[i]\n",
    "        file.write(f\"Model: {model_name}, Object: {obj_name}, Surface F1: {round(surface_points_f1, 3)}, Volume F1: {round(volume_points_f1, 3)}\\n\")\n",
    "    file.write(f\"\\nAverage Surface F1: {np.mean(surface_scores_f1)}\\n\")\n",
    "    file.write(f\"Average Volume F1: {np.mean(volume_scores_f1)}\\n\")"
   ]
  },
  {
   "cell_type": "code",
   "execution_count": 32,
   "metadata": {},
   "outputs": [
    {
     "name": "stderr",
     "output_type": "stream",
     "text": [
      "C:\\Users\\Admin\\AppData\\Local\\Temp\\ipykernel_10644\\3120141458.py:8: FutureWarning: You are using `torch.load` with `weights_only=False` (the current default value), which uses the default pickle module implicitly. It is possible to construct malicious pickle data which will execute arbitrary code during unpickling (See https://github.com/pytorch/pytorch/blob/main/SECURITY.md#untrusted-models for more details). In a future release, the default value for `weights_only` will be flipped to `True`. This limits the functions that could be executed during unpickling. Arbitrary objects will no longer be allowed to be loaded via this mode unless they are explicitly allowlisted by the user via `torch.serialization.add_safe_globals`. We recommend you start setting `weights_only=True` for any use case where you don't have full control of the loaded file. Please open an issue on GitHub for any issues related to this experimental feature.\n",
      "  model.load_state_dict(torch.load(model_pth)['state_dict'])\n"
     ]
    }
   ],
   "source": [
    "with open('time_measurement.txt', 'w') as file:\n",
    "    for model_name in os.listdir(CKPTS_DIR):\n",
    "\n",
    "        model_pth = os.path.join(CKPTS_DIR, model_name)\n",
    "        dummy_input = torch.randn(NUM_POINTS, 3, dtype=torch.float).to(DEVICE)\n",
    "\n",
    "        model = SDFNetwork().to(DEVICE)\n",
    "        model.load_state_dict(torch.load(model_pth)['state_dict'])\n",
    "\n",
    "\n",
    "        _ = model(dummy_input) # first initizalize for 'warming up' model\n",
    "\n",
    "        times = np.zeros((100, 1))\n",
    "        with torch.no_grad():\n",
    "            for i in range(100):\n",
    "                start = time.perf_counter_ns()\n",
    "                _ = model(dummy_input)\n",
    "                cur = time.perf_counter_ns() - start\n",
    "                times[i] = cur\n",
    "\n",
    "        file.write(f'Model: {model_name} - {np.min(times / 1e6)} milliseconds or {np.min(times)} nanoseconds for {NUM_POINTS} points\\n')"
   ]
  }
 ],
 "metadata": {
  "kernelspec": {
   "display_name": "Python 3",
   "language": "python",
   "name": "python3"
  },
  "language_info": {
   "codemirror_mode": {
    "name": "ipython",
    "version": 3
   },
   "file_extension": ".py",
   "mimetype": "text/x-python",
   "name": "python",
   "nbconvert_exporter": "python",
   "pygments_lexer": "ipython3",
   "version": "3.10.7"
  }
 },
 "nbformat": 4,
 "nbformat_minor": 2
}
